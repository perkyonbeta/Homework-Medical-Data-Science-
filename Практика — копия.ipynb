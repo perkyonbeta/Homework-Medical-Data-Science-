{
 "cells": [
  {
   "cell_type": "markdown",
   "metadata": {},
   "source": [
    "## Практика\n"
   ]
  },
  {
   "cell_type": "markdown",
   "metadata": {},
   "source": [
    "Напишите программный код, решающий следующую задачу.\n",
    "\n",
    "У пользователя запрашиваются ФИО, рост (в метрах) и вес (в кг).\n",
    "\n",
    "Введенные значения присваиваются соответствующим переменным.\n",
    "\n",
    "Новой переменной присваивается значение ИМТ, рассчитанного по следующей формуле: **ИМТ = вес/рост^2.**\n",
    "Далее выводится сообщение вида:\n",
    "\n",
    "Пациент: значение переменной ФИО\n",
    "\n",
    "ИМТ: значение переменной ИМТ\n",
    "\n",
    "При выводе сообщения к переменной ФИО необходимо применить метод, приводящий все символы к заглавному регистру. Для переноса строки используйте спец. символы. Для вывода значений переменных необходимо их \"встроить\""
   ]
  },
  {
   "cell_type": "code",
   "execution_count": 2,
   "metadata": {},
   "outputs": [
    {
     "name": "stdout",
     "output_type": "stream",
     "text": [
      "Пациент: Заверуха В.А\n",
      "ИМТ: 19.7 (норма)\n"
     ]
    }
   ],
   "source": [
    "fio = input(\"Введите имя: \")\n",
    "r = float(input(\"Введите ваш рост (в метрах, например 1.75): \"))\n",
    "m = float(input(\"Введите ваш вес (в кг): \"))\n",
    "imt = m / r**2\n",
    "if 18.5 <= imt <= 24.9:\n",
    "    status = \"норма\"\n",
    "elif imt < 18.5:\n",
    "    status = \"ниже нормы\"\n",
    "else:\n",
    "    status = \"выше нормы\"\n",
    "\n",
    "print(f\"Пациент: {fio}\\nИМТ: {imt:.1f} ({status})\")"
   ]
  },
  {
   "cell_type": "markdown",
   "metadata": {},
   "source": [
    "В медицинской клинике для хранения необходимо организовать информацию о пациентах, заболеваниях и назначенных лекарствах. Для этого необходимо создать список пациентов, каждый пациент которого представлен словарем со следующими полями:\n",
    "- **ФИО** (строка)\n",
    "- **Возраст** (число)\n",
    "- **Заболевания** (кортеж из строк, где каждое заболевание представлено текстом)\n",
    "- **Назначенные лекарства** (множество строк)\n",
    "\n",
    "На основе полученного списка выведите на экран:\n",
    "- Все уникальные заболевания, которые есть у пациентов.\n",
    "- Список всех назначенных лекарств.\n",
    "- Возраст самого младшего и самого старшего пациента."
   ]
  },
  {
   "cell_type": "code",
   "execution_count": 3,
   "metadata": {},
   "outputs": [
    {
     "name": "stdout",
     "output_type": "stream",
     "text": [
      "Все уникальные заболевания: {'язвенная болезнь желудка', 'гипертоническая болезнь', 'диабет', 'хроническая обструктивная болезнь лёгких', 'ишемическая болезнь сердца'}\n",
      "Список всех назначенных лекарств: {'антибиотики', 'ингаляционные ГКС', 'нитраты', 'ингибиторы АПФ', 'антикоагулянты', 'бета-адреноблокаторы', 'инсулин', 'бронхолитики', 'ингибиторы протонной помпы', 'антиагреганты', 'альфа-адреноблокаторы', 'сартаны'}\n",
      "Возраст самого младшего пациента: 28\n",
      "Возраст самого старшего пациента: 72\n"
     ]
    }
   ],
   "source": [
    "patients = [\n",
    "    {\n",
    "        \"ФИО\": \"Иванов Иван Иванович\",\n",
    "        \"Возраст\": 65,\n",
    "        \"Заболевания\": (\"хроническая обструктивная болезнь лёгких\",),\n",
    "        \"Назначенные лекарства\": {\"бронхолитики\", \"ингаляционные ГКС\", \"антибиотики\"}\n",
    "    },\n",
    "    {\n",
    "        \"ФИО\": \"Петров Сергей Александрович\",\n",
    "        \"Возраст\": 34,\n",
    "        \"Заболевания\": (\"диабет\",),\n",
    "        \"Назначенные лекарства\": {\"инсулин\"}\n",
    "    },\n",
    "    {\n",
    "        \"ФИО\": \"Колючкина Анна Григорьевна\",\n",
    "        \"Возраст\": 45,\n",
    "        \"Заболевания\": (\"гипертоническая болезнь\", \"диабет\"),\n",
    "        \"Назначенные лекарства\": {\"ингибиторы АПФ\", \"альфа-адреноблокаторы\", \"сартаны\", \"инсулин\"}\n",
    "    },\n",
    "    {\n",
    "        \"ФИО\": \"Кузнецова Олеся Владимировна\",\n",
    "        \"Возраст\": 28,\n",
    "        \"Заболевания\": (\"язвенная болезнь желудка\",),\n",
    "        \"Назначенные лекарства\": {\"ингибиторы протонной помпы\", \"антибиотики\"}\n",
    "    },\n",
    "    {\n",
    "        \"ФИО\": \"Васильев Александр Сергеевич\",\n",
    "        \"Возраст\": 72,\n",
    "        \"Заболевания\": (\"гипертоническая болезнь\", \"ишемическая болезнь сердца\"),\n",
    "        \"Назначенные лекарства\": {\"нитраты\", \"бета-адреноблокаторы\", \"антиагреганты\", \"антикоагулянты\", \"сартаны\"}\n",
    "    }\n",
    "]\n",
    "\n",
    "unique_diseases = set()\n",
    "for patient in patients:\n",
    "    unique_diseases.update(patient[\"Заболевания\"])\n",
    "print(\"Все уникальные заболевания:\", unique_diseases)\n",
    "\n",
    "all_drugs = set()\n",
    "for patient in patients:\n",
    "    all_drugs.update(patient[\"Назначенные лекарства\"])\n",
    "print(\"Список всех назначенных лекарств:\", all_drugs)\n",
    "\n",
    "ages = [patient[\"Возраст\"] for patient in patients]\n",
    "min_age = min(ages)\n",
    "max_age = max(ages)\n",
    "print(\"Возраст самого младшего пациента:\", min_age)\n",
    "print(\"Возраст самого старшего пациента:\", max_age)"
   ]
  },
  {
   "cell_type": "markdown",
   "metadata": {},
   "source": [
    "Выбрать одно из понятий (книга, домашнее животное, сериал, предмет мебели, населенный пункт, бактерия, магазин, заболевание, продукт питания, историческая личность и т. п., каждому студенту своё), выделить не менее трех основных характеристик, на их основании описать класс (определить названия и типы полей, правила проверки корректности значений, определить методы __ init __ и __ str __)"
   ]
  },
  {
   "cell_type": "code",
   "execution_count": 4,
   "metadata": {},
   "outputs": [
    {
     "name": "stdout",
     "output_type": "stream",
     "text": [
      "Название: Кишечная палочка\n",
      "Семейство: Энтеробактерии\n",
      "Род: Эшерихий\n",
      "Где обитает: Нижние отделы толстого кишечника\n",
      "\n",
      "Ошибка: Название бактерии должно быть непустой строкой.\n"
     ]
    }
   ],
   "source": [
    "class Bacteria:\n",
    "    def __init__(self, name: str, family: str, genus: str, habitat: str):\n",
    "        if not isinstance(name, str) or not name.strip():\n",
    "            raise ValueError(\"Название бактерии должно быть непустой строкой.\")\n",
    "        self.name = name.strip()\n",
    "\n",
    "        if not isinstance(family, str) or not family.strip():\n",
    "            raise ValueError(\"Название семейства бактерии должно быть непустой строкой.\")\n",
    "        self.family = family.strip()\n",
    "\n",
    "        if not isinstance(genus, str) or not genus.strip():\n",
    "            raise ValueError(\"Название рода бактерии должно быть непустой строкой.\")\n",
    "        self.genus = genus.strip()\n",
    "\n",
    "        if not isinstance(habitat, str) or not habitat.strip():\n",
    "            raise ValueError(\"Название места обитания бактерии должно быть непустой строкой.\")\n",
    "        self.habitat = habitat.strip()\n",
    "\n",
    "    def __str__(self):\n",
    "        return (f\"Название: {self.name}\\n\"\n",
    "                f\"Семейство: {self.family}\\n\"\n",
    "                f\"Род: {self.genus}\\n\"\n",
    "                f\"Где обитает: {self.habitat}\\n\")\n",
    "\n",
    "\n",
    "try:\n",
    "    Esherichia_coli = Bacteria(\"Кишечная палочка\", \"Энтеробактерии\", \"Эшерихий\", \"Нижние отделы толстого кишечника\")\n",
    "    print(Esherichia_coli)\n",
    "    Mycobacterium_tuberculosis = Bacteria(\"\", \"\", \"\", \"\")\n",
    "except ValueError as e:\n",
    "    print(f\"Ошибка: {e}\")"
   ]
  },
  {
   "cell_type": "markdown",
   "metadata": {},
   "source": [
    "Написать класс для хранения информации о студенте СибГМУ, в том числе: фамилия, имя, отчество, дата рождения, пол, номер группы. Обеспечить проверку корректности данных (имя и фамилия не должны быть пустыми, дата должна быть реальной, номер группы должен быть корректным, то есть, не может быть, например, «230») (для хранения даты рекомендуется использовать класс из предыдущего примера) "
   ]
  },
  {
   "cell_type": "code",
   "execution_count": null,
   "metadata": {},
   "outputs": [],
   "source": [
    "from datetime import datetime\n",
    "\n",
    "class Date:\n",
    "    MONTHS = {\n",
    "        1: \"января\", 2: \"февраля\", 3: \"марта\", 4: \"апреля\", 5: \"мая\", 6: \"июня\",\n",
    "        7: \"июля\", 8: \"августа\", 9: \"сентября\", 10: \"октября\", 11: \"ноября\", 12: \"декабря\"\n",
    "    }\n",
    "\n",
    "    def __init__(self, day: int, month: int, year: int):\n",
    "        try:\n",
    "            datetime(year, month, day)\n",
    "        except ValueError:\n",
    "            raise ValueError(\"Некорректная дата.\")\n",
    "        self.day = day\n",
    "        self.month = month\n",
    "        self.year = year\n",
    "\n",
    "    def to_text(self):\n",
    "        return f\"{self.day} {self.MONTHS[self.month]} {self.year} года\"\n",
    "\n",
    "    def __str__(self):\n",
    "        return f\"{self.day}.{self.month}.{self.year}\"\n",
    "\n",
    "\n",
    "class Student:\n",
    "    def __init__(self, surname: str, name: str, patronymic: str, birth_date: Date, gender: str, group: int):\n",
    "        if not isinstance(surname, str) or not surname.strip():\n",
    "            raise ValueError(\"Поле с фамилией должно быть заполнено.\")\n",
    "        self.surname = surname.strip()\n",
    "\n",
    "        if not isinstance(name, str) or not name.strip():\n",
    "            raise ValueError(\"Поле с именем должно быть заполнено.\")\n",
    "        self.name = name.strip()\n",
    "\n",
    "        if not isinstance(patronymic, str) or not patronymic.strip():\n",
    "            raise ValueError(\"Поле с отчеством должно быть заполнено.\")\n",
    "        self.patronymic = patronymic.strip()\n",
    "\n",
    "        if not isinstance(birth_date, Date):\n",
    "            raise ValueError(\"Дата рождения должна быть объектом класса Date.\")\n",
    "        self.birth_date = birth_date\n",
    "\n",
    "        if gender not in (\"М\", \"Ж\"):\n",
    "            raise ValueError(\"Пол должен быть указан как 'М' или 'Ж'.\")\n",
    "        self.gender = gender.strip()\n",
    "\n",
    "        if not isinstance(group, int) or not (100 <= group <= 999):\n",
    "            raise ValueError(\"Номер группы должен быть числом в диапазоне 100-999.\")\n",
    "        self.group = group\n",
    "\n",
    "    def __str__(self):\n",
    "        return (f\"Фамилия: {self.surname}\\n\"\n",
    "                f\"Имя: {self.name}\\n\"\n",
    "                f\"Отчество: {self.patronymic}\\n\"\n",
    "                f\"Дата рождения: {self.birth_date.to_text()}\\n\"\n",
    "                f\"Пол: {self.gender}\\n\"\n",
    "                f\"Номер группы: {self.group}\\n\")\n",
    "\n",
    "surname = input(\"Фамилия: \")\n",
    "name = input(\"Имя: \")\n",
    "patronymic = input(\"Отчество: \")\n",
    "gender = input(\"Пол (М или Ж): \")\n",
    "group = int(input(\"Номер группы: \"))\n",
    "day = int(input(\"Введите день: \"))\n",
    "month = int(input(\"Введите месяц (числом): \"))\n",
    "year = int(input(\"Введите год: \"))\n",
    "\n",
    "try:\n",
    "    birth_date = Date(day, month, year)\n",
    "    student = Student(surname, name, patronymic, birth_date, gender, group)\n",
    "    print(student)\n",
    "except ValueError as e:\n",
    "    print(f\"Ошибка: {e}\")"
   ]
  },
  {
   "cell_type": "markdown",
   "metadata": {},
   "source": [
    "1. Написать определение класса Point с атрибутами x и y, определить методы __ init __ и __ str __.\n",
    "\n",
    "2. Написать определение класса Circle с атрибутами *center* и *radius*, где center — это объект Point, а radius — числовое значение. Определить методы:\n",
    "*   __ init __\n",
    "*   __ str __\n",
    "*   метод, возвращающий площадь круга\n",
    "*   метод, возвращающий длину окружности\n",
    "3. Создать объект Circle, представляющий собой круг с центром в точке с координатами (150, 100) и радиусом, равным 75, вывести информацию о площади круга и длине окружности"
   ]
  },
  {
   "cell_type": "code",
   "execution_count": null,
   "metadata": {},
   "outputs": [],
   "source": [
    "import math\n",
    "\n",
    "class Point:\n",
    "  def __init__(self, x: int, y: int):\n",
    "      self.x = x\n",
    "      self.y = y\n",
    "\n",
    "  def __str__(self):\n",
    "        return f\"({self.x}, {self.y})\"\n",
    "\n",
    "\n",
    "class Circle:\n",
    "  def __init__(self, center: Point, radius: float):\n",
    "      self.center = center\n",
    "      self.radius = radius\n",
    "\n",
    "  def __str__(self):\n",
    "        return f\"Круг с центром в точке {self.center} и радиусом {self.radius}\"\n",
    "\n",
    "  def area(self):\n",
    "        \"\"\"Возвращает площадь круга.\"\"\"\n",
    "        return math.pi * self.radius**2\n",
    "\n",
    "  def circumference(self):\n",
    "        \"\"\"Возвращает длину окружности.\"\"\"\n",
    "        return 2 * math.pi * self.radius\n",
    "\n",
    "center_point = Point(150, 100)\n",
    "circle = Circle(center_point, 75)\n",
    "\n",
    "print(circle)\n",
    "print(f\"Площадь круга: {circle.area():.2f}\")\n",
    "print(f\"Длина окружности: {circle.circumference():.2f}\")"
   ]
  }
 ],
 "metadata": {
  "kernelspec": {
   "display_name": "Python 3",
   "language": "python",
   "name": "python3"
  },
  "language_info": {
   "codemirror_mode": {
    "name": "ipython",
    "version": 3
   },
   "file_extension": ".py",
   "mimetype": "text/x-python",
   "name": "python",
   "nbconvert_exporter": "python",
   "pygments_lexer": "ipython3",
   "version": "3.13.0"
  }
 },
 "nbformat": 4,
 "nbformat_minor": 2
}
